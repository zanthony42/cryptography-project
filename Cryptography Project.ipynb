{
 "cells": [
  {
   "cell_type": "code",
   "execution_count": 1,
   "id": "70b97a74",
   "metadata": {},
   "outputs": [],
   "source": [
    "import numpy as np\n",
    "import string\n",
    "import sys"
   ]
  },
  {
   "cell_type": "markdown",
   "id": "7fdc42b1",
   "metadata": {},
   "source": [
    "#### Note: The calculations in this notebook are done through modular arithmetic (modulus 27). Every uppercase alphabetical character (A-Z), as well as the space character, is associated to a two-digit integer in 00-26."
   ]
  },
  {
   "cell_type": "markdown",
   "id": "2c99eca8",
   "metadata": {},
   "source": [
    "### helper functions"
   ]
  },
  {
   "cell_type": "code",
   "execution_count": 2,
   "id": "22899476",
   "metadata": {},
   "outputs": [],
   "source": [
    "#modular arithmetic functions, multiplication and addition in Z27\n",
    "def modularProd(i,j):\n",
    "    product = i*j\n",
    "    while(product > 26):\n",
    "        product -=27\n",
    "    while(product < 0):\n",
    "        product +=27\n",
    "    return product\n",
    "\n",
    "def modularSum(i, j):\n",
    "    sum = i+j\n",
    "    while(sum > 26):\n",
    "        sum -=27\n",
    "    return sum"
   ]
  },
  {
   "cell_type": "markdown",
   "id": "b474c9d8",
   "metadata": {},
   "source": [
    "### function to find inverse of a 2x2 matrix"
   ]
  },
  {
   "cell_type": "code",
   "execution_count": 3,
   "id": "ef08f792",
   "metadata": {},
   "outputs": [],
   "source": [
    "#finds inverse of an array\n",
    "def findInverse(matrix):\n",
    "    #collecting neccessary data for calculations\n",
    "    a = matrix[0][0]\n",
    "    b = matrix[0][1]\n",
    "    c = matrix[1][0]\n",
    "    d = matrix[1][1]\n",
    "    determ = modularProd(a,d) - modularProd(b,c) #calculating determinant\n",
    "    matrixInverse = np.zeros((2,2),dtype=int)\n",
    "    \n",
    "    #prints error message if determinant in Z27 equals 0\n",
    "    if determ == 0:\n",
    "        print('Determinant = 0 :')\n",
    "        print(a,'*',d,' - ', b, '*',c, ' = ', determ)\n",
    "        sys.exit(\"ERROR: The matrix cannot be inverted\")\n",
    "    \n",
    "    #calculating inverse of array\n",
    "    matrixInverse[0][0]= modularProd (np.sign(determ), d) / abs(determ)\n",
    "    matrixInverse[0][1]= modularProd (np.sign(determ), (b*-1)) / abs(determ)\n",
    "    matrixInverse[1][0]= modularProd (np.sign(determ), (c*-1)) / abs(determ)\n",
    "    matrixInverse[1][1]= modularProd (np.sign(determ), a) / abs(determ)\n",
    "    \n",
    "    return(matrixInverse)"
   ]
  },
  {
   "cell_type": "markdown",
   "id": "e11810eb",
   "metadata": {},
   "source": [
    "### script to translate a hill cipher encoded message.\n",
    "#### A message is encoded as a string of two-digit integer values. Two values are seperated at a time into a 2x1 matrix (encoded matrix). To decode this message, the encoded matrix is multiplied by the previously given key (2x2 matrix) through modular arithemetic. The decoded message is then translated from integer values to alphabetical values."
   ]
  },
  {
   "cell_type": "code",
   "execution_count": 4,
   "id": "22883561",
   "metadata": {},
   "outputs": [],
   "source": [
    "#decodes a matrix by receiving a 2x2 matrix (key) and a 2x1 matrix (encoded message)\n",
    "def decodeMatrix(matrixA,matrixE):\n",
    "    matrixD = np.zeros((2,1),dtype=int)\n",
    "    #gathering data from matrix A (key)\n",
    "    a = matrixA[0][0]\n",
    "    b = matrixA[0][1]\n",
    "    c = matrixA[1][0]\n",
    "    d = matrixA[1][1]\n",
    "    \n",
    "    #gathering data from matrix E (encoded)\n",
    "    x = matrixE[0][0]\n",
    "    y = matrixE[1][0]\n",
    "    \n",
    "    #decoding matrix by finding the product through modular arithcmetic\n",
    "    matrixD[0][0] = modularSum (modularProd(x,a), modularProd(y,b))\n",
    "    matrixD[1][0] = modularSum (modularProd(x,c), modularProd(y,d))\n",
    "    \n",
    "    return(matrixD) #returns decoded matrix\n",
    "\n",
    "#translates numerical values to alphabetical characters\n",
    "def convertInt_Char(matrixD):\n",
    "    \n",
    "    #initializing empty array to hold translated characters\n",
    "    matrixT = np.array([' ', ' '],dtype=str)\n",
    "    count=0\n",
    "    \n",
    "    #replaces matrixD entry with corresponding alphabetical character\n",
    "    for char in alphabet:\n",
    "            if matrixD[0][0] == count:\n",
    "                matrixT[0] = char\n",
    "            if matrixD[1][0] == count:\n",
    "                matrixT[1] = char\n",
    "            count+=1\n",
    "                \n",
    "    return(matrixT)"
   ]
  },
  {
   "cell_type": "code",
   "execution_count": 5,
   "id": "fbef51e4",
   "metadata": {},
   "outputs": [
    {
     "name": "stdout",
     "output_type": "stream",
     "text": [
      "Matrix A:\n",
      "9 10 \n",
      "2 5 \n",
      "\n",
      "Matrix A inverse:\n",
      "11 5 \n",
      "1 9 \n",
      "\n",
      "Message in encoded numerical form:\n",
      " 1726181000070800192418131506222015210012030223071119061016230208091809110507221120211414190400040120\n",
      "\n",
      "Message in decoded alphabetical form:\n",
      "THE HIGHEST FORM OF PURE THOUGHT IS IN MATHEMATICS"
     ]
    }
   ],
   "source": [
    "message = '1726181000070800192418131506222015210012030223071119061016230208091809110507221120211414190400040120'\n",
    "alphabet = ' '+ string.ascii_uppercase\n",
    "\n",
    "# 'key' matrix for decoding to be used, (given)\n",
    "matrixA = np.array([[9,10],[2,5]],dtype=int) #matrix A initialized\n",
    "matrixAinv = np.zeros((2,2),dtype=int) #empty matrix A inverse initialized (2x2)\n",
    "matrixAinv = findInverse(matrixA)\n",
    "\n",
    "print(\"Matrix A:\")\n",
    "for i in range(0,2):\n",
    "    for j in range(0,2):\n",
    "        print(matrixA[i][j], end=' ')\n",
    "    print()\n",
    "\n",
    "print(\"\\nMatrix A inverse:\")\n",
    "for i in range(0,2):\n",
    "        for j in range(0,2):\n",
    "            print(matrixAinv[i][j], end=' ')\n",
    "        print()\n",
    "\n",
    "print(\"\\nMessage in encoded numerical form:\\n\", message)\n",
    "print(\"\\nMessage in decoded alphabetical form:\")\n",
    "\n",
    "#iterating through message for decoding and translation\n",
    "for s in range(0,len(message),4):\n",
    "    #seperating message values into 2x1 matrix (encoded message)\n",
    "    temp1 = message[s:(s+2)]\n",
    "    temp2 = message[(s+2):(s+4)]\n",
    "    matrixE = np.array([[temp1],[temp2]],dtype=int) #encoded matrix\n",
    "    \n",
    "    #decoding matrix and translating to alphabetical values\n",
    "    matrixD = decodeMatrix(matrixAinv, matrixE)\n",
    "    matrixT = convertInt_Char(matrixD)\n",
    "    \n",
    "    print(matrixT[0], end='')\n",
    "    print(matrixT[1], end='')"
   ]
  },
  {
   "cell_type": "markdown",
   "id": "710134af",
   "metadata": {},
   "source": [
    "### script to encode a message (string of characters), decode, and translate"
   ]
  },
  {
   "cell_type": "code",
   "execution_count": 6,
   "id": "8d93d71b",
   "metadata": {},
   "outputs": [],
   "source": [
    "#translates alhabetical characters to numerical values\n",
    "def convertChar_Int(matrixD):\n",
    "    \n",
    "    #initializing empty array to hold translated values\n",
    "    matrixT = np.array([0,0],dtype=int)\n",
    "    count=0\n",
    "    \n",
    "    #replaces matrixD entry with corresponding numerical value\n",
    "    for char in alphabet:\n",
    "            if matrixD[0] == char:\n",
    "                matrixT[0] = count\n",
    "                \n",
    "            if matrixD[1] == char:\n",
    "                matrixT[1] = count\n",
    "            count+=1\n",
    "                \n",
    "    return(matrixT) #decoded matrix in numerical form\n",
    "\n",
    "#encodes a 2x1 matrix by taking a 2x2 (key) and 2x1 (decoded) matrix\n",
    "def encodeMatrix(matrixA,matrixT):\n",
    "    matrixE = np.zeros((2,1),dtype=int)\n",
    "    #gathering data from matrix A (key)\n",
    "    a = matrixA[0][0]\n",
    "    b = matrixA[0][1]\n",
    "    c = matrixA[1][0]\n",
    "    d = matrixA[1][1]\n",
    "    \n",
    "    #gathering data from matrix T (decoded matrix)\n",
    "    x = matrixT[0]\n",
    "    y = matrixT[1]\n",
    "    \n",
    "    #encoding matrix by finding the product through modular arithcmetic\n",
    "    matrixE[0][0] = modularSum (modularProd(x,a), modularProd(y,b))\n",
    "    matrixE[1][0] = modularSum (modularProd(x,c), modularProd(y,d))\n",
    "    \n",
    "    return(matrixE)\n",
    "\n",
    "#loops through message and prints specified values\n",
    "def loopMessage2(matrix):\n",
    "    for s in range(0,len(message2),2):\n",
    "        # seperating message values into 2x1 matrix (decoded message)\n",
    "        temp1 = message2[s:(s+1)]\n",
    "        temp2 = message2[(s+1):(s+2)]\n",
    "        matrixD = np.array([[temp1],[temp2]],dtype=str) #decoded matrix\n",
    "        \n",
    "        #translating to integer values and encoding matrix\n",
    "        matrixT = convertChar_Int(matrixD)\n",
    "        matrixE = encodeMatrix(matrixA,matrixT)\n",
    "        \n",
    "        #decoding matrix and translating to alphabetical values\n",
    "        matrixD2 = decodeMatrix(matrixAinv, matrixE)\n",
    "        matrixT2 = convertInt_Char(matrixD2)\n",
    "        \n",
    "        #prints specified matrix values\n",
    "        if matrix == 'decoded numerical':\n",
    "            if matrixT[0] < 10:print(0, end='')\n",
    "            print(matrixT[0], end='')\n",
    "            \n",
    "            if matrixT[1] < 10:print(0, end='')\n",
    "            print(matrixT[1], end='')\n",
    "            \n",
    "        elif matrix == 'encoded numerical':\n",
    "            if matrixE[0][0] < 10:print(0, end='')\n",
    "            print(matrixE[0][0], end='')\n",
    "            \n",
    "            if matrixE[1][0] < 10:print(0, end='')\n",
    "            print(matrixE[1][0], end='')\n",
    "            \n",
    "        elif matrix == 'decoded2 numerical':\n",
    "            if matrixD2[0] < 10: print(0, end='')\n",
    "            print(matrixD2[0][0], end='')\n",
    "            \n",
    "            if matrixD2[1] < 10: print(0, end='')\n",
    "            print(matrixD2[1][0], end='')\n",
    "            \n",
    "        elif matrix == 'decoded characters':\n",
    "            print(matrixT2[0], end='')\n",
    "            print(matrixT2[1], end='')"
   ]
  },
  {
   "cell_type": "code",
   "execution_count": 7,
   "id": "9feb18ac",
   "metadata": {},
   "outputs": [
    {
     "name": "stdout",
     "output_type": "stream",
     "text": [
      "Matrix A:\n",
      "24 17 \n",
      "4 22 \n",
      "Matrix A inverse:\n",
      "22 10 \n",
      "23 24 \n",
      "\n",
      "Message in numerical form:\n",
      "080912120003091608051800\n",
      "\n",
      "Message in numerical form (encoded):\n",
      "211406152412021007070018\n",
      "\n",
      "Message in numerical form (decoded):\n",
      "080912120003091608051800\n",
      "\n",
      "Message in alphabetical form (decoded):\n",
      "HILL CIPHER \n",
      "\n"
     ]
    }
   ],
   "source": [
    "message2 = 'HILL CIPHER'\n",
    "\n",
    "# 'key' matrix for decoding and encoding to be used, (custom made)\n",
    "matrixA = np.array([[24,17],[4,22]],dtype=int)\n",
    "matrixAinv = np.zeros((2,2),dtype=int) #empty inverse initialized (2x2)\n",
    "matrixAinv = findInverse(matrixA) #find inverse matrix\n",
    "\n",
    "print(\"Matrix A:\")\n",
    "for i in range(0,2):\n",
    "    for j in range(0,2):\n",
    "        print(matrixA[i][j], end=' ')\n",
    "    print()\n",
    "    \n",
    "print(\"Matrix A inverse:\")\n",
    "for i in range(0,2):\n",
    "        for j in range(0,2):\n",
    "            print(matrixAinv[i][j], end=' ')\n",
    "        print()\n",
    "print()\n",
    "\n",
    "#calls loop to print proper values and output\n",
    "print(\"Message in numerical form:\")\n",
    "loopMessage2('decoded numerical')\n",
    "print('\\n')\n",
    "\n",
    "print(\"Message in numerical form (encoded):\")\n",
    "loopMessage2('encoded numerical')\n",
    "print('\\n')\n",
    "\n",
    "print(\"Message in numerical form (decoded):\")\n",
    "loopMessage2('decoded2 numerical')\n",
    "print('\\n')\n",
    "\n",
    "print(\"Message in alphabetical form (decoded):\")\n",
    "loopMessage2('decoded characters')\n",
    "print('\\n')"
   ]
  },
  {
   "cell_type": "code",
   "execution_count": 8,
   "id": "d1afae5e",
   "metadata": {},
   "outputs": [
    {
     "name": "stdout",
     "output_type": "stream",
     "text": [
      "Once deleted, variables cannot be recovered. Proceed (y/[n])? y\n"
     ]
    }
   ],
   "source": [
    "%reset"
   ]
  }
 ],
 "metadata": {
  "kernelspec": {
   "display_name": "Python 3",
   "language": "python",
   "name": "python3"
  },
  "language_info": {
   "codemirror_mode": {
    "name": "ipython",
    "version": 3
   },
   "file_extension": ".py",
   "mimetype": "text/x-python",
   "name": "python",
   "nbconvert_exporter": "python",
   "pygments_lexer": "ipython3",
   "version": "3.8.8"
  }
 },
 "nbformat": 4,
 "nbformat_minor": 5
}
